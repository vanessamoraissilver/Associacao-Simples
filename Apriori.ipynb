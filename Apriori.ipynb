{
 "cells": [
  {
   "cell_type": "code",
   "execution_count": 2,
   "metadata": {},
   "outputs": [],
   "source": [
    "import pandas as pd\n",
    "from apyori import apriori"
   ]
  },
  {
   "cell_type": "code",
   "execution_count": 6,
   "metadata": {},
   "outputs": [
    {
     "data": {
      "text/html": [
       "<div>\n",
       "<style scoped>\n",
       "    .dataframe tbody tr th:only-of-type {\n",
       "        vertical-align: middle;\n",
       "    }\n",
       "\n",
       "    .dataframe tbody tr th {\n",
       "        vertical-align: top;\n",
       "    }\n",
       "\n",
       "    .dataframe thead th {\n",
       "        text-align: right;\n",
       "    }\n",
       "</style>\n",
       "<table border=\"1\" class=\"dataframe\">\n",
       "  <thead>\n",
       "    <tr style=\"text-align: right;\">\n",
       "      <th></th>\n",
       "      <th>0</th>\n",
       "      <th>1</th>\n",
       "      <th>2</th>\n",
       "    </tr>\n",
       "  </thead>\n",
       "  <tbody>\n",
       "    <tr>\n",
       "      <td>0</td>\n",
       "      <td>Cerveja</td>\n",
       "      <td>Pizza</td>\n",
       "      <td>Sorvete</td>\n",
       "    </tr>\n",
       "    <tr>\n",
       "      <td>1</td>\n",
       "      <td>Pizza</td>\n",
       "      <td>Sorvete</td>\n",
       "      <td>NaN</td>\n",
       "    </tr>\n",
       "    <tr>\n",
       "      <td>2</td>\n",
       "      <td>Cerveja</td>\n",
       "      <td>Pizza</td>\n",
       "      <td>NaN</td>\n",
       "    </tr>\n",
       "    <tr>\n",
       "      <td>3</td>\n",
       "      <td>Cerveja</td>\n",
       "      <td>Pizza</td>\n",
       "      <td>Sorvete</td>\n",
       "    </tr>\n",
       "    <tr>\n",
       "      <td>4</td>\n",
       "      <td>Cerveja</td>\n",
       "      <td>Pizza</td>\n",
       "      <td>NaN</td>\n",
       "    </tr>\n",
       "    <tr>\n",
       "      <td>5</td>\n",
       "      <td>Pizza</td>\n",
       "      <td>NaN</td>\n",
       "      <td>NaN</td>\n",
       "    </tr>\n",
       "  </tbody>\n",
       "</table>\n",
       "</div>"
      ],
      "text/plain": [
       "         0        1        2\n",
       "0  Cerveja    Pizza  Sorvete\n",
       "1    Pizza  Sorvete      NaN\n",
       "2  Cerveja    Pizza      NaN\n",
       "3  Cerveja    Pizza  Sorvete\n",
       "4  Cerveja    Pizza      NaN\n",
       "5    Pizza      NaN      NaN"
      ]
     },
     "execution_count": 6,
     "metadata": {},
     "output_type": "execute_result"
    }
   ],
   "source": [
    "dados = pd.read_csv('transacoes.txt', header=None)\n",
    "dados"
   ]
  },
  {
   "cell_type": "code",
   "execution_count": 9,
   "metadata": {},
   "outputs": [
    {
     "data": {
      "text/plain": [
       "[['Cerveja', 'Pizza', 'Sorvete'],\n",
       " ['Pizza', 'Sorvete', 'nan'],\n",
       " ['Cerveja', 'Pizza', 'nan'],\n",
       " ['Cerveja', 'Pizza', 'Sorvete'],\n",
       " ['Cerveja', 'Pizza', 'nan'],\n",
       " ['Pizza', 'nan', 'nan']]"
      ]
     },
     "execution_count": 9,
     "metadata": {},
     "output_type": "execute_result"
    }
   ],
   "source": [
    "transacoes = []\n",
    "for i in range(0,6):\n",
    "    transacoes.append([str(dados.values[i,j]) for j in range(0,3)])\n",
    "    \n",
    "transacoes"
   ]
  },
  {
   "cell_type": "code",
   "execution_count": 14,
   "metadata": {},
   "outputs": [],
   "source": [
    "regras = apriori(transacoes, min_suport= 0.5, min_confience= 0.5)"
   ]
  },
  {
   "cell_type": "code",
   "execution_count": 15,
   "metadata": {},
   "outputs": [
    {
     "data": {
      "text/plain": [
       "[RelationRecord(items=frozenset({'Cerveja'}), support=0.6666666666666666, ordered_statistics=[OrderedStatistic(items_base=frozenset(), items_add=frozenset({'Cerveja'}), confidence=0.6666666666666666, lift=1.0)]),\n",
       " RelationRecord(items=frozenset({'Pizza'}), support=1.0, ordered_statistics=[OrderedStatistic(items_base=frozenset(), items_add=frozenset({'Pizza'}), confidence=1.0, lift=1.0)]),\n",
       " RelationRecord(items=frozenset({'Sorvete'}), support=0.5, ordered_statistics=[OrderedStatistic(items_base=frozenset(), items_add=frozenset({'Sorvete'}), confidence=0.5, lift=1.0)]),\n",
       " RelationRecord(items=frozenset({'nan'}), support=0.6666666666666666, ordered_statistics=[OrderedStatistic(items_base=frozenset(), items_add=frozenset({'nan'}), confidence=0.6666666666666666, lift=1.0)]),\n",
       " RelationRecord(items=frozenset({'Cerveja', 'Pizza'}), support=0.6666666666666666, ordered_statistics=[OrderedStatistic(items_base=frozenset(), items_add=frozenset({'Cerveja', 'Pizza'}), confidence=0.6666666666666666, lift=1.0), OrderedStatistic(items_base=frozenset({'Cerveja'}), items_add=frozenset({'Pizza'}), confidence=1.0, lift=1.0), OrderedStatistic(items_base=frozenset({'Pizza'}), items_add=frozenset({'Cerveja'}), confidence=0.6666666666666666, lift=1.0)]),\n",
       " RelationRecord(items=frozenset({'Sorvete', 'Cerveja'}), support=0.3333333333333333, ordered_statistics=[OrderedStatistic(items_base=frozenset(), items_add=frozenset({'Sorvete', 'Cerveja'}), confidence=0.3333333333333333, lift=1.0), OrderedStatistic(items_base=frozenset({'Cerveja'}), items_add=frozenset({'Sorvete'}), confidence=0.5, lift=1.0), OrderedStatistic(items_base=frozenset({'Sorvete'}), items_add=frozenset({'Cerveja'}), confidence=0.6666666666666666, lift=1.0)]),\n",
       " RelationRecord(items=frozenset({'Cerveja', 'nan'}), support=0.3333333333333333, ordered_statistics=[OrderedStatistic(items_base=frozenset(), items_add=frozenset({'Cerveja', 'nan'}), confidence=0.3333333333333333, lift=1.0), OrderedStatistic(items_base=frozenset({'Cerveja'}), items_add=frozenset({'nan'}), confidence=0.5, lift=0.75), OrderedStatistic(items_base=frozenset({'nan'}), items_add=frozenset({'Cerveja'}), confidence=0.5, lift=0.75)]),\n",
       " RelationRecord(items=frozenset({'Sorvete', 'Pizza'}), support=0.5, ordered_statistics=[OrderedStatistic(items_base=frozenset(), items_add=frozenset({'Sorvete', 'Pizza'}), confidence=0.5, lift=1.0), OrderedStatistic(items_base=frozenset({'Pizza'}), items_add=frozenset({'Sorvete'}), confidence=0.5, lift=1.0), OrderedStatistic(items_base=frozenset({'Sorvete'}), items_add=frozenset({'Pizza'}), confidence=1.0, lift=1.0)]),\n",
       " RelationRecord(items=frozenset({'Pizza', 'nan'}), support=0.6666666666666666, ordered_statistics=[OrderedStatistic(items_base=frozenset(), items_add=frozenset({'Pizza', 'nan'}), confidence=0.6666666666666666, lift=1.0), OrderedStatistic(items_base=frozenset({'Pizza'}), items_add=frozenset({'nan'}), confidence=0.6666666666666666, lift=1.0), OrderedStatistic(items_base=frozenset({'nan'}), items_add=frozenset({'Pizza'}), confidence=1.0, lift=1.0)]),\n",
       " RelationRecord(items=frozenset({'Sorvete', 'nan'}), support=0.16666666666666666, ordered_statistics=[OrderedStatistic(items_base=frozenset(), items_add=frozenset({'Sorvete', 'nan'}), confidence=0.16666666666666666, lift=1.0), OrderedStatistic(items_base=frozenset({'Sorvete'}), items_add=frozenset({'nan'}), confidence=0.3333333333333333, lift=0.5), OrderedStatistic(items_base=frozenset({'nan'}), items_add=frozenset({'Sorvete'}), confidence=0.25, lift=0.5)]),\n",
       " RelationRecord(items=frozenset({'Sorvete', 'Cerveja', 'Pizza'}), support=0.3333333333333333, ordered_statistics=[OrderedStatistic(items_base=frozenset(), items_add=frozenset({'Sorvete', 'Cerveja', 'Pizza'}), confidence=0.3333333333333333, lift=1.0), OrderedStatistic(items_base=frozenset({'Cerveja'}), items_add=frozenset({'Sorvete', 'Pizza'}), confidence=0.5, lift=1.0), OrderedStatistic(items_base=frozenset({'Pizza'}), items_add=frozenset({'Sorvete', 'Cerveja'}), confidence=0.3333333333333333, lift=1.0), OrderedStatistic(items_base=frozenset({'Sorvete'}), items_add=frozenset({'Cerveja', 'Pizza'}), confidence=0.6666666666666666, lift=1.0), OrderedStatistic(items_base=frozenset({'Cerveja', 'Pizza'}), items_add=frozenset({'Sorvete'}), confidence=0.5, lift=1.0), OrderedStatistic(items_base=frozenset({'Sorvete', 'Cerveja'}), items_add=frozenset({'Pizza'}), confidence=1.0, lift=1.0), OrderedStatistic(items_base=frozenset({'Sorvete', 'Pizza'}), items_add=frozenset({'Cerveja'}), confidence=0.6666666666666666, lift=1.0)]),\n",
       " RelationRecord(items=frozenset({'Cerveja', 'Pizza', 'nan'}), support=0.3333333333333333, ordered_statistics=[OrderedStatistic(items_base=frozenset(), items_add=frozenset({'Cerveja', 'Pizza', 'nan'}), confidence=0.3333333333333333, lift=1.0), OrderedStatistic(items_base=frozenset({'Cerveja'}), items_add=frozenset({'Pizza', 'nan'}), confidence=0.5, lift=0.75), OrderedStatistic(items_base=frozenset({'Pizza'}), items_add=frozenset({'Cerveja', 'nan'}), confidence=0.3333333333333333, lift=1.0), OrderedStatistic(items_base=frozenset({'nan'}), items_add=frozenset({'Cerveja', 'Pizza'}), confidence=0.5, lift=0.75), OrderedStatistic(items_base=frozenset({'Cerveja', 'Pizza'}), items_add=frozenset({'nan'}), confidence=0.5, lift=0.75), OrderedStatistic(items_base=frozenset({'Cerveja', 'nan'}), items_add=frozenset({'Pizza'}), confidence=1.0, lift=1.0), OrderedStatistic(items_base=frozenset({'Pizza', 'nan'}), items_add=frozenset({'Cerveja'}), confidence=0.5, lift=0.75)]),\n",
       " RelationRecord(items=frozenset({'Sorvete', 'Pizza', 'nan'}), support=0.16666666666666666, ordered_statistics=[OrderedStatistic(items_base=frozenset(), items_add=frozenset({'Sorvete', 'Pizza', 'nan'}), confidence=0.16666666666666666, lift=1.0), OrderedStatistic(items_base=frozenset({'Pizza'}), items_add=frozenset({'Sorvete', 'nan'}), confidence=0.16666666666666666, lift=1.0), OrderedStatistic(items_base=frozenset({'Sorvete'}), items_add=frozenset({'Pizza', 'nan'}), confidence=0.3333333333333333, lift=0.5), OrderedStatistic(items_base=frozenset({'nan'}), items_add=frozenset({'Sorvete', 'Pizza'}), confidence=0.25, lift=0.5), OrderedStatistic(items_base=frozenset({'Sorvete', 'Pizza'}), items_add=frozenset({'nan'}), confidence=0.3333333333333333, lift=0.5), OrderedStatistic(items_base=frozenset({'Pizza', 'nan'}), items_add=frozenset({'Sorvete'}), confidence=0.25, lift=0.5), OrderedStatistic(items_base=frozenset({'Sorvete', 'nan'}), items_add=frozenset({'Pizza'}), confidence=1.0, lift=1.0)])]"
      ]
     },
     "execution_count": 15,
     "metadata": {},
     "output_type": "execute_result"
    }
   ],
   "source": [
    "resultados = list(regras)\n",
    "resultados"
   ]
  },
  {
   "cell_type": "code",
   "execution_count": 17,
   "metadata": {},
   "outputs": [
    {
     "data": {
      "text/plain": [
       "[[frozenset({'Cerveja'}),\n",
       "  0.6666666666666666,\n",
       "  [OrderedStatistic(items_base=frozenset(), items_add=frozenset({'Cerveja'}), confidence=0.6666666666666666, lift=1.0)]],\n",
       " [frozenset({'Pizza'}),\n",
       "  1.0,\n",
       "  [OrderedStatistic(items_base=frozenset(), items_add=frozenset({'Pizza'}), confidence=1.0, lift=1.0)]],\n",
       " [frozenset({'Sorvete'}),\n",
       "  0.5,\n",
       "  [OrderedStatistic(items_base=frozenset(), items_add=frozenset({'Sorvete'}), confidence=0.5, lift=1.0)]],\n",
       " [frozenset({'nan'}),\n",
       "  0.6666666666666666,\n",
       "  [OrderedStatistic(items_base=frozenset(), items_add=frozenset({'nan'}), confidence=0.6666666666666666, lift=1.0)]],\n",
       " [frozenset({'Cerveja', 'Pizza'}),\n",
       "  0.6666666666666666,\n",
       "  [OrderedStatistic(items_base=frozenset(), items_add=frozenset({'Cerveja', 'Pizza'}), confidence=0.6666666666666666, lift=1.0),\n",
       "   OrderedStatistic(items_base=frozenset({'Cerveja'}), items_add=frozenset({'Pizza'}), confidence=1.0, lift=1.0),\n",
       "   OrderedStatistic(items_base=frozenset({'Pizza'}), items_add=frozenset({'Cerveja'}), confidence=0.6666666666666666, lift=1.0)]],\n",
       " [frozenset({'Cerveja', 'Sorvete'}),\n",
       "  0.3333333333333333,\n",
       "  [OrderedStatistic(items_base=frozenset(), items_add=frozenset({'Sorvete', 'Cerveja'}), confidence=0.3333333333333333, lift=1.0),\n",
       "   OrderedStatistic(items_base=frozenset({'Cerveja'}), items_add=frozenset({'Sorvete'}), confidence=0.5, lift=1.0),\n",
       "   OrderedStatistic(items_base=frozenset({'Sorvete'}), items_add=frozenset({'Cerveja'}), confidence=0.6666666666666666, lift=1.0)]],\n",
       " [frozenset({'Cerveja', 'nan'}),\n",
       "  0.3333333333333333,\n",
       "  [OrderedStatistic(items_base=frozenset(), items_add=frozenset({'Cerveja', 'nan'}), confidence=0.3333333333333333, lift=1.0),\n",
       "   OrderedStatistic(items_base=frozenset({'Cerveja'}), items_add=frozenset({'nan'}), confidence=0.5, lift=0.75),\n",
       "   OrderedStatistic(items_base=frozenset({'nan'}), items_add=frozenset({'Cerveja'}), confidence=0.5, lift=0.75)]],\n",
       " [frozenset({'Pizza', 'Sorvete'}),\n",
       "  0.5,\n",
       "  [OrderedStatistic(items_base=frozenset(), items_add=frozenset({'Sorvete', 'Pizza'}), confidence=0.5, lift=1.0),\n",
       "   OrderedStatistic(items_base=frozenset({'Pizza'}), items_add=frozenset({'Sorvete'}), confidence=0.5, lift=1.0),\n",
       "   OrderedStatistic(items_base=frozenset({'Sorvete'}), items_add=frozenset({'Pizza'}), confidence=1.0, lift=1.0)]],\n",
       " [frozenset({'Pizza', 'nan'}),\n",
       "  0.6666666666666666,\n",
       "  [OrderedStatistic(items_base=frozenset(), items_add=frozenset({'Pizza', 'nan'}), confidence=0.6666666666666666, lift=1.0),\n",
       "   OrderedStatistic(items_base=frozenset({'Pizza'}), items_add=frozenset({'nan'}), confidence=0.6666666666666666, lift=1.0),\n",
       "   OrderedStatistic(items_base=frozenset({'nan'}), items_add=frozenset({'Pizza'}), confidence=1.0, lift=1.0)]],\n",
       " [frozenset({'Sorvete', 'nan'}),\n",
       "  0.16666666666666666,\n",
       "  [OrderedStatistic(items_base=frozenset(), items_add=frozenset({'Sorvete', 'nan'}), confidence=0.16666666666666666, lift=1.0),\n",
       "   OrderedStatistic(items_base=frozenset({'Sorvete'}), items_add=frozenset({'nan'}), confidence=0.3333333333333333, lift=0.5),\n",
       "   OrderedStatistic(items_base=frozenset({'nan'}), items_add=frozenset({'Sorvete'}), confidence=0.25, lift=0.5)]],\n",
       " [frozenset({'Cerveja', 'Pizza', 'Sorvete'}),\n",
       "  0.3333333333333333,\n",
       "  [OrderedStatistic(items_base=frozenset(), items_add=frozenset({'Sorvete', 'Cerveja', 'Pizza'}), confidence=0.3333333333333333, lift=1.0),\n",
       "   OrderedStatistic(items_base=frozenset({'Cerveja'}), items_add=frozenset({'Sorvete', 'Pizza'}), confidence=0.5, lift=1.0),\n",
       "   OrderedStatistic(items_base=frozenset({'Pizza'}), items_add=frozenset({'Sorvete', 'Cerveja'}), confidence=0.3333333333333333, lift=1.0),\n",
       "   OrderedStatistic(items_base=frozenset({'Sorvete'}), items_add=frozenset({'Cerveja', 'Pizza'}), confidence=0.6666666666666666, lift=1.0),\n",
       "   OrderedStatistic(items_base=frozenset({'Cerveja', 'Pizza'}), items_add=frozenset({'Sorvete'}), confidence=0.5, lift=1.0),\n",
       "   OrderedStatistic(items_base=frozenset({'Sorvete', 'Cerveja'}), items_add=frozenset({'Pizza'}), confidence=1.0, lift=1.0),\n",
       "   OrderedStatistic(items_base=frozenset({'Sorvete', 'Pizza'}), items_add=frozenset({'Cerveja'}), confidence=0.6666666666666666, lift=1.0)]],\n",
       " [frozenset({'Cerveja', 'Pizza', 'nan'}),\n",
       "  0.3333333333333333,\n",
       "  [OrderedStatistic(items_base=frozenset(), items_add=frozenset({'Cerveja', 'Pizza', 'nan'}), confidence=0.3333333333333333, lift=1.0),\n",
       "   OrderedStatistic(items_base=frozenset({'Cerveja'}), items_add=frozenset({'Pizza', 'nan'}), confidence=0.5, lift=0.75),\n",
       "   OrderedStatistic(items_base=frozenset({'Pizza'}), items_add=frozenset({'Cerveja', 'nan'}), confidence=0.3333333333333333, lift=1.0),\n",
       "   OrderedStatistic(items_base=frozenset({'nan'}), items_add=frozenset({'Cerveja', 'Pizza'}), confidence=0.5, lift=0.75),\n",
       "   OrderedStatistic(items_base=frozenset({'Cerveja', 'Pizza'}), items_add=frozenset({'nan'}), confidence=0.5, lift=0.75),\n",
       "   OrderedStatistic(items_base=frozenset({'Cerveja', 'nan'}), items_add=frozenset({'Pizza'}), confidence=1.0, lift=1.0),\n",
       "   OrderedStatistic(items_base=frozenset({'Pizza', 'nan'}), items_add=frozenset({'Cerveja'}), confidence=0.5, lift=0.75)]],\n",
       " [frozenset({'Pizza', 'Sorvete', 'nan'}),\n",
       "  0.16666666666666666,\n",
       "  [OrderedStatistic(items_base=frozenset(), items_add=frozenset({'Sorvete', 'Pizza', 'nan'}), confidence=0.16666666666666666, lift=1.0),\n",
       "   OrderedStatistic(items_base=frozenset({'Pizza'}), items_add=frozenset({'Sorvete', 'nan'}), confidence=0.16666666666666666, lift=1.0),\n",
       "   OrderedStatistic(items_base=frozenset({'Sorvete'}), items_add=frozenset({'Pizza', 'nan'}), confidence=0.3333333333333333, lift=0.5),\n",
       "   OrderedStatistic(items_base=frozenset({'nan'}), items_add=frozenset({'Sorvete', 'Pizza'}), confidence=0.25, lift=0.5),\n",
       "   OrderedStatistic(items_base=frozenset({'Sorvete', 'Pizza'}), items_add=frozenset({'nan'}), confidence=0.3333333333333333, lift=0.5),\n",
       "   OrderedStatistic(items_base=frozenset({'Pizza', 'nan'}), items_add=frozenset({'Sorvete'}), confidence=0.25, lift=0.5),\n",
       "   OrderedStatistic(items_base=frozenset({'Sorvete', 'nan'}), items_add=frozenset({'Pizza'}), confidence=1.0, lift=1.0)]]]"
      ]
     },
     "execution_count": 17,
     "metadata": {},
     "output_type": "execute_result"
    }
   ],
   "source": [
    "resultados2 = [list(x) for x in resultados]\n",
    "resultados2"
   ]
  },
  {
   "cell_type": "code",
   "execution_count": 20,
   "metadata": {},
   "outputs": [
    {
     "data": {
      "text/plain": [
       "[[[frozenset(), frozenset({'Cerveja'}), 0.6666666666666666, 1.0]],\n",
       " [[frozenset(), frozenset({'Pizza'}), 1.0, 1.0]],\n",
       " [[frozenset(), frozenset({'Sorvete'}), 0.5, 1.0]],\n",
       " [[frozenset(), frozenset({'nan'}), 0.6666666666666666, 1.0]],\n",
       " [[frozenset(), frozenset({'Cerveja', 'Pizza'}), 0.6666666666666666, 1.0],\n",
       "  [frozenset({'Cerveja'}), frozenset({'Pizza'}), 1.0, 1.0],\n",
       "  [frozenset({'Pizza'}), frozenset({'Cerveja'}), 0.6666666666666666, 1.0]],\n",
       " [[frozenset(), frozenset({'Cerveja', 'Sorvete'}), 0.3333333333333333, 1.0],\n",
       "  [frozenset({'Cerveja'}), frozenset({'Sorvete'}), 0.5, 1.0],\n",
       "  [frozenset({'Sorvete'}), frozenset({'Cerveja'}), 0.6666666666666666, 1.0]],\n",
       " [[frozenset(), frozenset({'Cerveja', 'nan'}), 0.3333333333333333, 1.0],\n",
       "  [frozenset({'Cerveja'}), frozenset({'nan'}), 0.5, 0.75],\n",
       "  [frozenset({'nan'}), frozenset({'Cerveja'}), 0.5, 0.75]]]"
      ]
     },
     "execution_count": 20,
     "metadata": {},
     "output_type": "execute_result"
    }
   ],
   "source": [
    "resultados3 = []\n",
    "for j in range(0,7):\n",
    "    resultados3.append([list(x) for x in resultados2[j][2]])\n",
    "\n",
    "resultados3"
   ]
  },
  {
   "cell_type": "code",
   "execution_count": null,
   "metadata": {},
   "outputs": [],
   "source": []
  }
 ],
 "metadata": {
  "kernelspec": {
   "display_name": "Python 3",
   "language": "python",
   "name": "python3"
  },
  "language_info": {
   "codemirror_mode": {
    "name": "ipython",
    "version": 3
   },
   "file_extension": ".py",
   "mimetype": "text/x-python",
   "name": "python",
   "nbconvert_exporter": "python",
   "pygments_lexer": "ipython3",
   "version": "3.7.4"
  }
 },
 "nbformat": 4,
 "nbformat_minor": 2
}
